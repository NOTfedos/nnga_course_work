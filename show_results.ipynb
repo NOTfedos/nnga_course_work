{
 "cells": [
  {
   "cell_type": "code",
   "execution_count": null,
   "id": "17146fd8",
   "metadata": {},
   "outputs": [],
   "source": [
    "import sys\n",
    "!{sys.executable} -m pip install mycolorpy"
   ]
  },
  {
   "cell_type": "code",
   "execution_count": 1,
   "id": "c19bbcd3",
   "metadata": {},
   "outputs": [],
   "source": [
    "from models import Entity, Environment\n",
    "from vizuals import plot_env_history\n",
    "\n",
    "import numpy as np\n",
    "import torch\n",
    "import torch.utils.data as Data\n",
    "import matplotlib.pyplot as plt\n",
    "import time"
   ]
  },
  {
   "cell_type": "code",
   "execution_count": 2,
   "id": "b24bb4b9",
   "metadata": {},
   "outputs": [
    {
     "data": {
      "text/plain": [
       "[<matplotlib.lines.Line2D at 0x2b3f0f983a0>]"
      ]
     },
     "execution_count": 2,
     "metadata": {},
     "output_type": "execute_result"
    },
    {
     "data": {
      "image/png": "[encoded data removed]",
      "text/plain": [
       "<Figure size 432x288 with 1 Axes>"
      ]
     },
     "metadata": {
      "needs_background": "light"
     },
     "output_type": "display_data"
    }
   ],
   "source": [
    "x_arr = torch.linspace(-1, 1, 500)\n",
    "y_arr = torch.exp(x_arr) + torch.normal(0, 0.02, size=(500,))\n",
    "dataset = Data.TensorDataset(x_arr.unsqueeze(1),y_arr.unsqueeze(1))\n",
    "train_loader = Data.DataLoader(\n",
    "\tdataset=dataset,\n",
    "    batch_size=5, # Divided into batches\n",
    "    shuffle=True  # Whether to disrupt the data, the default is False\n",
    ")\n",
    "\n",
    "x_val = torch.linspace(1, 1.2, 50)\n",
    "y_val = torch.exp(x_val) + torch.normal(0, 0.02, size=(50,))\n",
    "dataset = Data.TensorDataset(x_val.unsqueeze(1), y_val.unsqueeze(1))\n",
    "val_loader = Data.DataLoader(\n",
    "\tdataset=dataset,\n",
    "    batch_size=5, # Divided into batches\n",
    "    shuffle=True  # Whether to disrupt the data, the default is False\n",
    ")\n",
    "\n",
    "plt.plot(x_arr, y_arr, marker=\"o\", lw=0, markersize=2)\n",
    "plt.plot(x_val, y_val, marker=\"o\", lw=0, markersize=2)"
   ]
  },
  {
   "cell_type": "code",
   "execution_count": 3,
   "id": "99934afc",
   "metadata": {},
   "outputs": [
    {
     "name": "stdout",
     "output_type": "stream",
     "text": [
      "cpu\n"
     ]
    }
   ],
   "source": [
    "env = Environment(5, train_loader, train_epochs=50, validation_loader=val_loader)"
   ]
  },
  {
   "cell_type": "code",
   "execution_count": 4,
   "id": "d7901322",
   "metadata": {},
   "outputs": [
    {
     "name": "stdout",
     "output_type": "stream",
     "text": [
      "Train ended in 17 s\n"
     ]
    },
    {
     "data": {
      "text/plain": [
       "[0.32054738283157347,\n",
       " 0.03651430517435074,\n",
       " 0.07828279733657836,\n",
       " 0.12785980701446534,\n",
       " 0.6854161071777344]"
      ]
     },
     "execution_count": 4,
     "metadata": {},
     "output_type": "execute_result"
    }
   ],
   "source": [
    "start_time = time.time()\n",
    "env.train_epoch()\n",
    "print(f\"Train ended in {int(time.time() - start_time)} s\")\n",
    "env.validate_entities()"
   ]
  },
  {
   "cell_type": "code",
   "execution_count": 5,
   "id": "9b44f70e",
   "metadata": {},
   "outputs": [
    {
     "name": "stdout",
     "output_type": "stream",
     "text": [
      "5 ['#0000ff', '#0040df', '#0080bf', '#00c09f', '#00ff80']\n",
      "[1] [0.32054738283157347] 0\n",
      "[1] [0.03651430517435074] 1\n",
      "[1] [0.07828279733657836] 2\n",
      "[1] [0.12785980701446534] 3\n",
      "[1] [0.6854161071777344] 4\n"
     ]
    },
    {
     "data": {
      "image/png": "[encoded data removed]",
      "text/plain": [
       "<Figure size 432x288 with 1 Axes>"
      ]
     },
     "metadata": {
      "needs_background": "light"
     },
     "output_type": "display_data"
    }
   ],
   "source": [
    "plot_env_history(env)"
   ]
  },
  {
   "cell_type": "code",
   "execution_count": 6,
   "id": "2d62f6c9",
   "metadata": {},
   "outputs": [
    {
     "name": "stdout",
     "output_type": "stream",
     "text": [
      "Evo epoch 1 ended in 13 s\n",
      "Evo epoch 2 ended in 11 s\n",
      "Evo epoch 3 ended in 10 s\n",
      "Evo epoch 4 ended in 10 s\n",
      "Evo epoch 5 ended in 12 s\n"
     ]
    }
   ],
   "source": [
    "for i in range(5):\n",
    "    start_time = time.time()\n",
    "    env.evo_step()\n",
    "    env.train_epoch()\n",
    "    env.validate_entities()\n",
    "    print(f\"Evo epoch {i+1} ended in {int(time.time() - start_time)} s\")"
   ]
  },
  {
   "cell_type": "code",
   "execution_count": 7,
   "id": "2e024278",
   "metadata": {},
   "outputs": [
    {
     "name": "stdout",
     "output_type": "stream",
     "text": [
      "5 ['#0000ff', '#0040df', '#0080bf', '#00c09f', '#00ff80']\n",
      "[1, 2, 3, 4, 5, 6] [0.07828279733657836, 0.08052570164203644, 0.053958421647548674, 0.048575985431671145, 0.05403895884752273, 0.3548190689086914] 2\n",
      "[1, 2, 3, 4, 5, 6] [0.07828279733657836, 0.08052570164203644, 0.07219803631305695, 0.07141022682189942, 0.07111339151859283, 0.6015176630020141] 2\n",
      "[1, 2, 3, 4, 5, 6] [0.07828279733657836, 0.08052570164203644, 0.053958421647548674, 0.048575985431671145, 0.07494765400886536, 0.6015176486968994] 2\n",
      "[1, 2, 3, 4, 5, 6] [0.07828279733657836, 0.08052570164203644, 0.053958421647548674, 0.048575985431671145, 0.05403895884752273, 0.3190606164932251] 2\n",
      "[1, 2, 3, 4, 5, 6] [0.07828279733657836, 0.08052570164203644, 0.07219803631305695, 0.07141022682189942, 0.07111339151859283, 0.3511170840263367] 2\n"
     ]
    },
    {
     "data": {
      "image/png": "[encoded data removed]",
      "text/plain": [
       "<Figure size 432x288 with 1 Axes>"
      ]
     },
     "metadata": {
      "needs_background": "light"
     },
     "output_type": "display_data"
    }
   ],
   "source": [
    "plot_env_history(env)"
   ]
  },
  {
   "cell_type": "code",
   "execution_count": 9,
   "id": "3a1a8e08",
   "metadata": {},
   "outputs": [
    {
     "data": {
      "text/plain": [
       "[<matplotlib.lines.Line2D at 0x2b3f3607520>]"
      ]
     },
     "execution_count": 9,
     "metadata": {},
     "output_type": "execute_result"
    },
    {
     "data": {
      "image/png": "[encoded data removed]",
      "text/plain": [
       "<Figure size 432x288 with 1 Axes>"
      ]
     },
     "metadata": {
      "needs_background": "light"
     },
     "output_type": "display_data"
    }
   ],
   "source": [
    "plt.plot(torch.cat((x_arr, x_val)), torch.cat((x_arr, y_val)), marker=\"o\", lw=0, markersize=2)\n",
    "y_p = env.entities[4].predict(torch.cat((x_arr, x_val)).unsqueeze(1))\n",
    "plt.plot(torch.cat((x_arr, x_val)), y_p.squeeze(1), label=\"Model\")"
   ]
  },
  {
   "cell_type": "code",
   "execution_count": null,
   "id": "0733a704",
   "metadata": {},
   "outputs": [],
   "source": []
  }
 ],
 "metadata": {
  "kernelspec": {
   "display_name": "Python 3 (ipykernel)",
   "language": "python",
   "name": "python3"
  },
  "language_info": {
   "codemirror_mode": {
    "name": "ipython",
    "version": 3
   },
   "file_extension": ".py",
   "mimetype": "text/x-python",
   "name": "python",
   "nbconvert_exporter": "python",
   "pygments_lexer": "ipython3",
   "version": "3.10.0"
  }
 },
 "nbformat": 4,
 "nbformat_minor": 5
}
