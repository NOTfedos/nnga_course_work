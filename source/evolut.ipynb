{
 "cells": [
  {
   "cell_type": "code",
   "execution_count": 1,
   "id": "43c86929",
   "metadata": {},
   "outputs": [],
   "source": [
    "from models import Entity, Environment\n",
    "import numpy as np\n",
    "import torch\n",
    "import torch.utils.data as Data\n",
    "import matplotlib.pyplot as plt\n",
    "import time"
   ]
  },
  {
   "cell_type": "code",
   "execution_count": 2,
   "id": "c133eaba",
   "metadata": {},
   "outputs": [],
   "source": [
    "x_arr = torch.linspace(-1, 1, 500)\n",
    "y_arr = torch.exp(x_arr) + torch.normal(0, 0.02, size=(500,))\n",
    "dataset = Data.TensorDataset(x_arr.unsqueeze(1),y_arr.unsqueeze(1))\n",
    "train_loader = Data.DataLoader(\n",
    "\tdataset=dataset,\n",
    "    batch_size=5, # Divided into batches\n",
    "    shuffle=True  # Whether to disrupt the data, the default is False\n",
    ")"
   ]
  },
  {
   "cell_type": "code",
   "execution_count": 3,
   "id": "6d32c8d5",
   "metadata": {},
   "outputs": [],
   "source": [
    "x_val = torch.linspace(1, 1.2, 50)\n",
    "y_val = torch.exp(x_val) + torch.normal(0, 0.02, size=(50,))\n",
    "dataset = Data.TensorDataset(x_val.unsqueeze(1), y_val.unsqueeze(1))\n",
    "val_loader = Data.DataLoader(\n",
    "\tdataset=dataset,\n",
    "    batch_size=5, # Divided into batches\n",
    "    shuffle=True  # Whether to disrupt the data, the default is False\n",
    ")"
   ]
  },
  {
   "cell_type": "code",
   "execution_count": 4,
   "id": "6f59bfb2",
   "metadata": {},
   "outputs": [
    {
     "data": {
      "text/plain": [
       "[<matplotlib.lines.Line2D at 0x7fc5b24a6b20>]"
      ]
     },
     "execution_count": 4,
     "metadata": {},
     "output_type": "execute_result"
    },
    {
     "data": {
      "image/png": "[encoded data removed]",
      "text/plain": [
       "<Figure size 432x288 with 1 Axes>"
      ]
     },
     "metadata": {
      "needs_background": "light"
     },
     "output_type": "display_data"
    }
   ],
   "source": [
    "plt.plot(x_arr, y_arr, marker=\"o\", lw=0, markersize=2)\n",
    "plt.plot(x_val, y_val, marker=\"o\", lw=0, markersize=2)"
   ]
  },
  {
   "cell_type": "code",
   "execution_count": 5,
   "id": "151c5b3b",
   "metadata": {},
   "outputs": [
    {
     "name": "stdout",
     "output_type": "stream",
     "text": [
      "cuda\n"
     ]
    }
   ],
   "source": [
    "env = Environment(10, train_loader, train_epochs=20, validation_loader=val_loader)"
   ]
  },
  {
   "cell_type": "code",
   "execution_count": 6,
   "id": "6f2f640b",
   "metadata": {},
   "outputs": [],
   "source": [
    "env.train_epoch()"
   ]
  },
  {
   "cell_type": "code",
   "execution_count": 7,
   "id": "d0af1c0b",
   "metadata": {},
   "outputs": [
    {
     "data": {
      "text/plain": [
       "[nan,\n",
       " 0.026636948734521864,\n",
       " 0.03059614270925522,\n",
       " 0.48092232704162596,\n",
       " 0.0037013547867536544,\n",
       " 0.08962450683116913,\n",
       " 0.5740872764587402,\n",
       " 0.02911730334162712,\n",
       " 0.39867558479309084,\n",
       " 0.2871609902381897]"
      ]
     },
     "execution_count": 7,
     "metadata": {},
     "output_type": "execute_result"
    }
   ],
   "source": [
    "env.validate_entities()"
   ]
  },
  {
   "cell_type": "code",
   "execution_count": 30,
   "id": "9caa159b",
   "metadata": {},
   "outputs": [
    {
     "name": "stdout",
     "output_type": "stream",
     "text": [
      "[nan, nan, 0.8191136074066161]\n",
      "0\n",
      "{'layers': [{'type': 'Linear', 'in': 1, 'out': 43}, {'type': 'ReLU', 'in': 43, 'out': 43}, {'type': 'Sigmoid', 'in': 43, 'out': 43}, {'type': 'Linear', 'in': 43, 'out': 1}, {'type': 'Sigmoid', 'in': 1, 'out': 1}], 'criterion': 'MSELoss', 'optimizer': {'momentum': 0.20130593096547167, 'name': 'SGD', 'lr': 0.18521470909836527}}\n"
     ]
    }
   ],
   "source": [
    "m = env.entities[3]\n",
    "print(m.entity_history)\n",
    "print(m.color)\n",
    "print(m.gens)"
   ]
  },
  {
   "cell_type": "code",
   "execution_count": 27,
   "id": "a4380a99",
   "metadata": {},
   "outputs": [
    {
     "data": {
      "text/plain": [
       "tensor([[nan],\n",
       "        [nan],\n",
       "        [nan],\n",
       "        [nan],\n",
       "        [nan],\n",
       "        [nan],\n",
       "        [nan],\n",
       "        [nan],\n",
       "        [nan],\n",
       "        [nan],\n",
       "        [nan],\n",
       "        [nan],\n",
       "        [nan],\n",
       "        [nan],\n",
       "        [nan],\n",
       "        [nan],\n",
       "        [nan],\n",
       "        [nan],\n",
       "        [nan],\n",
       "        [nan],\n",
       "        [nan],\n",
       "        [nan],\n",
       "        [nan],\n",
       "        [nan],\n",
       "        [nan],\n",
       "        [nan],\n",
       "        [nan],\n",
       "        [nan],\n",
       "        [nan],\n",
       "        [nan],\n",
       "        [nan],\n",
       "        [nan],\n",
       "        [nan],\n",
       "        [nan],\n",
       "        [nan],\n",
       "        [nan],\n",
       "        [nan],\n",
       "        [nan],\n",
       "        [nan],\n",
       "        [nan],\n",
       "        [nan],\n",
       "        [nan],\n",
       "        [nan],\n",
       "        [nan],\n",
       "        [nan],\n",
       "        [nan],\n",
       "        [nan],\n",
       "        [nan],\n",
       "        [nan],\n",
       "        [nan],\n",
       "        [nan],\n",
       "        [nan],\n",
       "        [nan],\n",
       "        [nan],\n",
       "        [nan],\n",
       "        [nan],\n",
       "        [nan],\n",
       "        [nan],\n",
       "        [nan],\n",
       "        [nan],\n",
       "        [nan],\n",
       "        [nan],\n",
       "        [nan],\n",
       "        [nan],\n",
       "        [nan],\n",
       "        [nan],\n",
       "        [nan],\n",
       "        [nan],\n",
       "        [nan],\n",
       "        [nan],\n",
       "        [nan],\n",
       "        [nan],\n",
       "        [nan],\n",
       "        [nan],\n",
       "        [nan],\n",
       "        [nan],\n",
       "        [nan],\n",
       "        [nan],\n",
       "        [nan],\n",
       "        [nan],\n",
       "        [nan],\n",
       "        [nan],\n",
       "        [nan],\n",
       "        [nan],\n",
       "        [nan],\n",
       "        [nan],\n",
       "        [nan],\n",
       "        [nan],\n",
       "        [nan],\n",
       "        [nan],\n",
       "        [nan],\n",
       "        [nan],\n",
       "        [nan],\n",
       "        [nan],\n",
       "        [nan],\n",
       "        [nan],\n",
       "        [nan],\n",
       "        [nan],\n",
       "        [nan],\n",
       "        [nan],\n",
       "        [nan],\n",
       "        [nan],\n",
       "        [nan],\n",
       "        [nan],\n",
       "        [nan],\n",
       "        [nan],\n",
       "        [nan],\n",
       "        [nan],\n",
       "        [nan],\n",
       "        [nan],\n",
       "        [nan],\n",
       "        [nan],\n",
       "        [nan],\n",
       "        [nan],\n",
       "        [nan],\n",
       "        [nan],\n",
       "        [nan],\n",
       "        [nan],\n",
       "        [nan],\n",
       "        [nan],\n",
       "        [nan],\n",
       "        [nan],\n",
       "        [nan],\n",
       "        [nan],\n",
       "        [nan],\n",
       "        [nan],\n",
       "        [nan],\n",
       "        [nan],\n",
       "        [nan],\n",
       "        [nan],\n",
       "        [nan],\n",
       "        [nan],\n",
       "        [nan],\n",
       "        [nan],\n",
       "        [nan],\n",
       "        [nan],\n",
       "        [nan],\n",
       "        [nan],\n",
       "        [nan],\n",
       "        [nan],\n",
       "        [nan],\n",
       "        [nan],\n",
       "        [nan],\n",
       "        [nan],\n",
       "        [nan],\n",
       "        [nan],\n",
       "        [nan],\n",
       "        [nan],\n",
       "        [nan],\n",
       "        [nan],\n",
       "        [nan],\n",
       "        [nan],\n",
       "        [nan],\n",
       "        [nan],\n",
       "        [nan],\n",
       "        [nan],\n",
       "        [nan],\n",
       "        [nan],\n",
       "        [nan],\n",
       "        [nan],\n",
       "        [nan],\n",
       "        [nan],\n",
       "        [nan],\n",
       "        [nan],\n",
       "        [nan],\n",
       "        [nan],\n",
       "        [nan],\n",
       "        [nan],\n",
       "        [nan],\n",
       "        [nan],\n",
       "        [nan],\n",
       "        [nan],\n",
       "        [nan],\n",
       "        [nan],\n",
       "        [nan],\n",
       "        [nan],\n",
       "        [nan],\n",
       "        [nan],\n",
       "        [nan],\n",
       "        [nan],\n",
       "        [nan],\n",
       "        [nan],\n",
       "        [nan],\n",
       "        [nan],\n",
       "        [nan],\n",
       "        [nan],\n",
       "        [nan],\n",
       "        [nan],\n",
       "        [nan],\n",
       "        [nan],\n",
       "        [nan],\n",
       "        [nan],\n",
       "        [nan],\n",
       "        [nan],\n",
       "        [nan],\n",
       "        [nan],\n",
       "        [nan],\n",
       "        [nan],\n",
       "        [nan],\n",
       "        [nan],\n",
       "        [nan],\n",
       "        [nan],\n",
       "        [nan],\n",
       "        [nan],\n",
       "        [nan],\n",
       "        [nan],\n",
       "        [nan],\n",
       "        [nan],\n",
       "        [nan],\n",
       "        [nan],\n",
       "        [nan],\n",
       "        [nan],\n",
       "        [nan],\n",
       "        [nan],\n",
       "        [nan],\n",
       "        [nan],\n",
       "        [nan],\n",
       "        [nan],\n",
       "        [nan],\n",
       "        [nan],\n",
       "        [nan],\n",
       "        [nan],\n",
       "        [nan],\n",
       "        [nan],\n",
       "        [nan],\n",
       "        [nan],\n",
       "        [nan],\n",
       "        [nan],\n",
       "        [nan],\n",
       "        [nan],\n",
       "        [nan],\n",
       "        [nan],\n",
       "        [nan],\n",
       "        [nan],\n",
       "        [nan],\n",
       "        [nan],\n",
       "        [nan],\n",
       "        [nan],\n",
       "        [nan],\n",
       "        [nan],\n",
       "        [nan],\n",
       "        [nan],\n",
       "        [nan],\n",
       "        [nan],\n",
       "        [nan],\n",
       "        [nan],\n",
       "        [nan],\n",
       "        [nan],\n",
       "        [nan],\n",
       "        [nan],\n",
       "        [nan],\n",
       "        [nan],\n",
       "        [nan],\n",
       "        [nan],\n",
       "        [nan],\n",
       "        [nan],\n",
       "        [nan],\n",
       "        [nan],\n",
       "        [nan],\n",
       "        [nan],\n",
       "        [nan],\n",
       "        [nan],\n",
       "        [nan],\n",
       "        [nan],\n",
       "        [nan],\n",
       "        [nan],\n",
       "        [nan],\n",
       "        [nan],\n",
       "        [nan],\n",
       "        [nan],\n",
       "        [nan],\n",
       "        [nan],\n",
       "        [nan],\n",
       "        [nan],\n",
       "        [nan],\n",
       "        [nan],\n",
       "        [nan],\n",
       "        [nan],\n",
       "        [nan],\n",
       "        [nan],\n",
       "        [nan],\n",
       "        [nan],\n",
       "        [nan],\n",
       "        [nan],\n",
       "        [nan],\n",
       "        [nan],\n",
       "        [nan],\n",
       "        [nan],\n",
       "        [nan],\n",
       "        [nan],\n",
       "        [nan],\n",
       "        [nan],\n",
       "        [nan],\n",
       "        [nan],\n",
       "        [nan],\n",
       "        [nan],\n",
       "        [nan],\n",
       "        [nan],\n",
       "        [nan],\n",
       "        [nan],\n",
       "        [nan],\n",
       "        [nan],\n",
       "        [nan],\n",
       "        [nan],\n",
       "        [nan],\n",
       "        [nan],\n",
       "        [nan],\n",
       "        [nan],\n",
       "        [nan],\n",
       "        [nan],\n",
       "        [nan],\n",
       "        [nan],\n",
       "        [nan],\n",
       "        [nan],\n",
       "        [nan],\n",
       "        [nan],\n",
       "        [nan],\n",
       "        [nan],\n",
       "        [nan],\n",
       "        [nan],\n",
       "        [nan],\n",
       "        [nan],\n",
       "        [nan],\n",
       "        [nan],\n",
       "        [nan],\n",
       "        [nan],\n",
       "        [nan],\n",
       "        [nan],\n",
       "        [nan],\n",
       "        [nan],\n",
       "        [nan],\n",
       "        [nan],\n",
       "        [nan],\n",
       "        [nan],\n",
       "        [nan],\n",
       "        [nan],\n",
       "        [nan],\n",
       "        [nan],\n",
       "        [nan],\n",
       "        [nan],\n",
       "        [nan],\n",
       "        [nan],\n",
       "        [nan],\n",
       "        [nan],\n",
       "        [nan],\n",
       "        [nan],\n",
       "        [nan],\n",
       "        [nan],\n",
       "        [nan],\n",
       "        [nan],\n",
       "        [nan],\n",
       "        [nan],\n",
       "        [nan],\n",
       "        [nan],\n",
       "        [nan],\n",
       "        [nan],\n",
       "        [nan],\n",
       "        [nan],\n",
       "        [nan],\n",
       "        [nan],\n",
       "        [nan],\n",
       "        [nan],\n",
       "        [nan],\n",
       "        [nan],\n",
       "        [nan],\n",
       "        [nan],\n",
       "        [nan],\n",
       "        [nan],\n",
       "        [nan],\n",
       "        [nan],\n",
       "        [nan],\n",
       "        [nan],\n",
       "        [nan],\n",
       "        [nan],\n",
       "        [nan],\n",
       "        [nan],\n",
       "        [nan],\n",
       "        [nan],\n",
       "        [nan],\n",
       "        [nan],\n",
       "        [nan],\n",
       "        [nan],\n",
       "        [nan],\n",
       "        [nan],\n",
       "        [nan],\n",
       "        [nan],\n",
       "        [nan],\n",
       "        [nan],\n",
       "        [nan],\n",
       "        [nan],\n",
       "        [nan],\n",
       "        [nan],\n",
       "        [nan],\n",
       "        [nan],\n",
       "        [nan],\n",
       "        [nan],\n",
       "        [nan],\n",
       "        [nan],\n",
       "        [nan],\n",
       "        [nan],\n",
       "        [nan],\n",
       "        [nan],\n",
       "        [nan],\n",
       "        [nan],\n",
       "        [nan],\n",
       "        [nan],\n",
       "        [nan],\n",
       "        [nan],\n",
       "        [nan],\n",
       "        [nan],\n",
       "        [nan],\n",
       "        [nan],\n",
       "        [nan],\n",
       "        [nan],\n",
       "        [nan],\n",
       "        [nan],\n",
       "        [nan],\n",
       "        [nan],\n",
       "        [nan],\n",
       "        [nan],\n",
       "        [nan],\n",
       "        [nan],\n",
       "        [nan],\n",
       "        [nan],\n",
       "        [nan],\n",
       "        [nan],\n",
       "        [nan],\n",
       "        [nan],\n",
       "        [nan],\n",
       "        [nan],\n",
       "        [nan],\n",
       "        [nan],\n",
       "        [nan],\n",
       "        [nan],\n",
       "        [nan],\n",
       "        [nan],\n",
       "        [nan],\n",
       "        [nan],\n",
       "        [nan],\n",
       "        [nan],\n",
       "        [nan],\n",
       "        [nan],\n",
       "        [nan],\n",
       "        [nan],\n",
       "        [nan],\n",
       "        [nan],\n",
       "        [nan],\n",
       "        [nan],\n",
       "        [nan],\n",
       "        [nan],\n",
       "        [nan],\n",
       "        [nan],\n",
       "        [nan],\n",
       "        [nan],\n",
       "        [nan],\n",
       "        [nan],\n",
       "        [nan],\n",
       "        [nan],\n",
       "        [nan],\n",
       "        [nan],\n",
       "        [nan],\n",
       "        [nan],\n",
       "        [nan],\n",
       "        [nan],\n",
       "        [nan],\n",
       "        [nan],\n",
       "        [nan],\n",
       "        [nan],\n",
       "        [nan],\n",
       "        [nan],\n",
       "        [nan],\n",
       "        [nan],\n",
       "        [nan],\n",
       "        [nan],\n",
       "        [nan],\n",
       "        [nan],\n",
       "        [nan],\n",
       "        [nan],\n",
       "        [nan],\n",
       "        [nan],\n",
       "        [nan],\n",
       "        [nan],\n",
       "        [nan],\n",
       "        [nan],\n",
       "        [nan],\n",
       "        [nan],\n",
       "        [nan],\n",
       "        [nan],\n",
       "        [nan],\n",
       "        [nan],\n",
       "        [nan],\n",
       "        [nan],\n",
       "        [nan],\n",
       "        [nan],\n",
       "        [nan],\n",
       "        [nan],\n",
       "        [nan],\n",
       "        [nan],\n",
       "        [nan],\n",
       "        [nan]])"
      ]
     },
     "execution_count": 27,
     "metadata": {},
     "output_type": "execute_result"
    }
   ],
   "source": [
    "y = m.predict(x_arr.unsqueeze(1))\n",
    "y"
   ]
  },
  {
   "cell_type": "code",
   "execution_count": 24,
   "id": "9fc0a204",
   "metadata": {},
   "outputs": [],
   "source": [
    "l = m.loss(y, y_arr.unsqueeze(1))"
   ]
  },
  {
   "cell_type": "code",
   "execution_count": 25,
   "id": "e24670ce",
   "metadata": {},
   "outputs": [
    {
     "data": {
      "text/plain": [
       "nan"
      ]
     },
     "execution_count": 25,
     "metadata": {},
     "output_type": "execute_result"
    }
   ],
   "source": [
    "l.item()"
   ]
  },
  {
   "cell_type": "code",
   "execution_count": 26,
   "id": "29858d6f",
   "metadata": {},
   "outputs": [
    {
     "data": {
      "text/plain": [
       "[<matplotlib.lines.Line2D at 0x7fc5a03843a0>]"
      ]
     },
     "execution_count": 26,
     "metadata": {},
     "output_type": "execute_result"
    },
    {
     "data": {
      "image/png": "[encoded data removed]",
      "text/plain": [
       "<Figure size 432x288 with 1 Axes>"
      ]
     },
     "metadata": {
      "needs_background": "light"
     },
     "output_type": "display_data"
    }
   ],
   "source": [
    "plt.plot(x_arr, y.squeeze(1))\n",
    "plt.plot(x_arr, y_arr)"
   ]
  },
  {
   "cell_type": "code",
   "execution_count": 28,
   "id": "d089c7a7",
   "metadata": {},
   "outputs": [
    {
     "name": "stderr",
     "output_type": "stream",
     "text": [
      "/home/grishakl/.local/lib/python3.8/site-packages/torch/nn/init.py:388: UserWarning: Initializing zero-element tensors is a no-op\n",
      "  warnings.warn(\"Initializing zero-element tensors is a no-op\")\n"
     ]
    }
   ],
   "source": [
    "env.evo_step()"
   ]
  },
  {
   "cell_type": "code",
   "execution_count": 29,
   "id": "fb756f32",
   "metadata": {},
   "outputs": [
    {
     "data": {
      "text/plain": [
       "[0.8193382215499877,\n",
       " 0.6635229539871216,\n",
       " 0.8198240566253663,\n",
       " 0.8191136074066161,\n",
       " 0.4386515760421753,\n",
       " 0.8191285181045533,\n",
       " 0.1085951453447342,\n",
       " 0.4741649103164673,\n",
       " 0.40888100147247314,\n",
       " 0.338895366191864,\n",
       " 0.5784709119796754,\n",
       " 0.011154318526387215,\n",
       " 0.09445713877677916,\n",
       " 0.026356259956955907,\n",
       " 0.15543962597846986,\n",
       " 0.7411324596405029]"
      ]
     },
     "execution_count": 29,
     "metadata": {},
     "output_type": "execute_result"
    }
   ],
   "source": [
    "env.train_epoch()\n",
    "env.validate_entities()"
   ]
  },
  {
   "cell_type": "code",
   "execution_count": 34,
   "id": "50543593",
   "metadata": {},
   "outputs": [
    {
     "name": "stdout",
     "output_type": "stream",
     "text": [
      "[0.0422891965508461, 1.0396669578552244, 0.030537154525518417, 0.20365112662315368, 0.017557269111275673, 0.0394845125079155, 0.4176260685920715, 0.9123357868194579, 0.1304694128036499, 0.40259103059768675, 0.3519681143760681, 0.33919840335845947, 0.030339190214872358]\n",
      "Evo step: 0\n",
      "[0.2246376395225525, 0.15033210873603822, 0.42719244956970215, 0.2755017948150635, 0.026962548345327374, 0.040545593500137325, 0.4146311259269714, 0.40228495597839353, 0.10512838423252106, 0.45607321739196777, 0.40228560924530027, 1.3435991191864014, 0.2201255226135254, 0.495847520828247, 0.40228495597839353, 0.6687982845306396]\n",
      "Evo step: 1\n"
     ]
    },
    {
     "name": "stderr",
     "output_type": "stream",
     "text": [
      "/home/grishakl/.local/lib/python3.8/site-packages/torch/nn/init.py:388: UserWarning: Initializing zero-element tensors is a no-op\n",
      "  warnings.warn(\"Initializing zero-element tensors is a no-op\")\n"
     ]
    },
    {
     "name": "stdout",
     "output_type": "stream",
     "text": [
      "[0.11433065772056579, 0.10463815867900847, 0.2017181944847107, 0.2631603455543518, 0.025273885875940323, 0.057113953232765205, 1.0524173736572267, 0.40228493928909304, 0.41058114528656003, 0.3357116937637329, 0.40228493928909304, 0.6987426233291626, 0.2722913646697998, 0.7457553911209106, 0.40228493928909304, 0.46243826150894163, 0.8599285173416138, 0.4710676217079163, 0.7419516849517822]\n",
      "Evo step: 2\n",
      "[0.20438371896743773, 0.6028150987625123, 0.4949820518493652, 0.4037564206123352, 0.01737562283873558, 0.052550787031650545, 0.916776180267334, 0.4499661064147949, 0.41654244422912595, 0.10555970788002014, 0.4499661064147949, 0.5139051342010499, 0.23878662109375, 0.6929809761047363, 0.4499661064147949, 0.4452373933792114, 0.6397648906707764, 1.1102039623260498, 0.34129904747009276, 0.8890912532806396, 0.787715744972229, 0.11309765577316284]\n",
      "Evo step: 3\n",
      "[0.2787294387817383, 0.8155090761184691, 0.25755247116088864, 0.4022849678993225, 0.40276357412338254, 0.043707655370235445, 0.8155110120773316, 0.44996612071990966, 0.4092314743995667, 0.15346736192703248, 0.44996612071990966, 0.8155130290985108, 0.7692772340774536, 0.8155090761184691, 0.44996612071990966, 0.8155126333236694, 0.815519437789917, 0.8155141735076905, 0.8155090761184691, 0.8155120468139648, 0.8155095767974853, 0.8155090761184691, 0.8155109119415282, 0.8155103397369384, 0.8155097436904907]\n",
      "Evo step: 4\n",
      "[0.19844379901885986, 0.7220111417770385, 0.3249563789367676, 0.402671446800232, 0.40275113344192504, 0.054186696708202364, 1.0186916542053222, 0.44996612071990966, 0.41399760246276857, 0.31376325607299804, 0.44996612071990966, 1.018691883087158, 0.5789961242675782, 0.5574298191070557, 0.44996612071990966, 1.0186910247802734, 1.0186910247802734, 1.0186920738220215, 1.0006789493560793, 1.018691883087158, 1.0186913394927979, 0.6862680006027222, 1.0186910247802734, 1.018692617416382, 1.018694019317627, 1.0186923122406006, 1.0186910247802734, 1.0186924457550048]\n",
      "Evo step: 5\n",
      "[0.14545978546142577, 0.7353383064270019, 0.27325512886047365, 0.4024400043487549, 0.4030221152305603, 0.07457816272974013, 1.0186920928955079, 0.6022849559783936, 0.41742567777633666, 0.1397856640815735, 0.6022849559783936, 1.018691759109497, 0.030495342314243317, 0.8761449480056763, 0.44996612548828124, 1.018692617416382, 1.0186944580078126, 1.018691349029541, 0.5437175941467285, 1.0186912536621093, 1.0186946868896485, 0.7905234479904175, 1.0186950969696045, 1.0186927318572998, 1.0186946868896485, 1.018695526123047, 1.0186916065216063, 1.0186938190460206, 1.0186929321289062, 1.0186940479278566, 1.0186933803558351]\n",
      "Evo step: 6\n",
      "[0.2063542628288269, 1.8200790023803712, 0.36839833736419675, 0.45021734237670896, 0.4029138422012329, 0.06949129700660706, 1.018938751220703, 0.6022849369049073, 0.3987338972091675, 0.29959620475769044, 0.6022849369049073, 1.0189098834991455, 0.23584537506103515, 0.8155225038528442, 0.44996612548828124, 1.0189251232147218, 1.0189065551757812, 1.018897008895874, 1.8200790023803712, 1.0189004516601563, 1.0188942241668701, 0.8155243253707886, 1.0189140605926514, 1.0189122486114504, 1.0188710594177246, 1.018916883468628, 1.0189369392395018, 1.0189180374145508, 1.0189113903045655, 1.0188907146453858, 1.0188877773284912, 1.0189148235321046, 1.0189478969573975, 1.0188686847686768]\n",
      "Evo step: 7\n",
      "[0.3706835818290711, 1.8200789833068847, 0.027284314930438997, 0.450028395652771, 0.4029836821556091, 0.0791685676574707, 1.0187101078033447, 0.44996612548828124, 0.42074994325637816, 0.1981327521800995, 0.44996612548828124, 1.0187006855010987, 0.5119421672821045, 0.8155163764953614, 0.44996612548828124, 1.0187038898468017, 1.0187058353424072, 1.0187098026275634, 1.8200789833068847, 1.0187018585205077, 1.0186998271942138, 0.8155229949951173, 1.0187026119232176, 1.0187019634246828, 1.0187100219726564, 1.018710880279541, 1.018710231781006, 1.018702812194824, 1.018703384399414, 1.0187004661560057, 1.0187066745758055, 1.0187041187286376, 1.0187099266052246, 1.0187096977233887, 0.8155347871780396, 1.8200789833068847, 1.0187047672271727]\n",
      "Evo step: 8\n",
      "[0.13737937211990356, 1.0463581371307373, 0.40228494882583615, 0.45000680923461917, 0.4028824138641357, 0.6286016750335693, 1.129167127609253, 0.6022849607467651, 0.408405032157898, 0.15371464848518374, 0.44996612071990966, 1.129167776107788, 0.40228494882583615, 1.0463591957092286, 0.6022849607467651, 1.129166660308838, 1.1291661930084227, 1.1291675758361817, 1.046358871459961, 1.1291692733764649, 1.1291679286956788, 1.0463589763641357, 1.1291688919067382, 1.1291661930084227, 1.1291679954528808, 1.1291670036315917, 1.129170036315918, 1.1291681385040282, 1.1291667652130126, 1.1291694641113281, 1.129167776107788, 1.1291690063476563, 1.129166660308838, 1.1291682147979736, 1.2677940273284913, 1.046358871459961, 1.1291665077209472, 1.2677940273284913, 1.2677940273284913, 1.0463591194152833]\n",
      "Evo step: 9\n"
     ]
    }
   ],
   "source": [
    "for i in range(10):\n",
    "    env.train_epoch()\n",
    "    print(env.validate_entities())\n",
    "    env.evo_step()\n",
    "    print(f\"Evo step: {i}\")"
   ]
  },
  {
   "cell_type": "code",
   "execution_count": 35,
   "id": "e0db78f1",
   "metadata": {},
   "outputs": [
    {
     "data": {
      "image/png": "[encoded data removed]",
      "text/plain": [
       "<Figure size 432x288 with 1 Axes>"
      ]
     },
     "metadata": {
      "needs_background": "light"
     },
     "output_type": "display_data"
    }
   ],
   "source": [
    "env.train_epoch()\n",
    "plt.plot(x_arr, y_arr, label=\"True\")\n",
    "for i, ent in enumerate(env.entities):\n",
    "    y = ent.predict(x_arr.unsqueeze(1))\n",
    "    plt.plot(x_arr, y.squeeze(1), label=str(i))\n",
    "plt.legend()\n",
    "plt.show()"
   ]
  },
  {
   "cell_type": "code",
   "execution_count": 36,
   "id": "a98e2f10",
   "metadata": {},
   "outputs": [
    {
     "name": "stdout",
     "output_type": "stream",
     "text": [
      "cuda\n"
     ]
    }
   ],
   "source": [
    "env = Environment(10, train_loader, train_epochs=100, validation_loader=val_loader)"
   ]
  },
  {
   "cell_type": "code",
   "execution_count": 37,
   "id": "03c84ecb",
   "metadata": {},
   "outputs": [
    {
     "name": "stdout",
     "output_type": "stream",
     "text": [
      "Train time: 59 s\n"
     ]
    },
    {
     "data": {
      "image/png": "[encoded data removed]",
      "text/plain": [
       "<Figure size 432x288 with 1 Axes>"
      ]
     },
     "metadata": {
      "needs_background": "light"
     },
     "output_type": "display_data"
    }
   ],
   "source": [
    "start_time = time.time()\n",
    "env.train_epoch()\n",
    "print(f\"Train time: {(time.time() - start_time):.0f} s\")\n",
    "plt.plot(x_val, y_val, label=\"True\")\n",
    "for i, ent in enumerate(env.entities):\n",
    "    y = ent.predict(x_val.unsqueeze(1))\n",
    "    plt.plot(x_val, y.squeeze(1), label=str(i))\n",
    "plt.legend()\n",
    "plt.show()"
   ]
  },
  {
   "cell_type": "code",
   "execution_count": 38,
   "id": "2ec39cbf",
   "metadata": {},
   "outputs": [
    {
     "name": "stdout",
     "output_type": "stream",
     "text": [
      "[0.14468383073806762, 0.14358299136161806, 0.002868397608399391, 0.005906862104311585, 0.009533531069755555, 0.047893435657024384, 0.19463122010231018, 0.329080696105957, 0.15690672397613525, 0.3545556139945984]\n",
      "Exec time: 79 s\n"
     ]
    },
    {
     "data": {
      "image/png": "[encoded data removed]",
      "text/plain": [
       "<Figure size 432x288 with 1 Axes>"
      ]
     },
     "metadata": {
      "needs_background": "light"
     },
     "output_type": "display_data"
    }
   ],
   "source": [
    "print(env.validate_entities())\n",
    "start_time = time.time()\n",
    "env.evo_step()\n",
    "env.train_epoch()\n",
    "print(f\"Exec time: {(time.time() - start_time):.0f} s\")\n",
    "plt.plot(x_val, y_val, label=\"True\")\n",
    "for i, ent in enumerate(env.entities):\n",
    "    y = ent.predict(x_val.unsqueeze(1))\n",
    "    plt.plot(x_val, y.squeeze(1), label=str(i))\n",
    "plt.legend()\n",
    "plt.show()"
   ]
  },
  {
   "cell_type": "code",
   "execution_count": 41,
   "id": "9615c2e0",
   "metadata": {},
   "outputs": [],
   "source": [
    "x = torch.cat((x_arr, x_val))\n",
    "y = torch.cat((y_arr, y_val))"
   ]
  },
  {
   "cell_type": "code",
   "execution_count": 42,
   "id": "b856042a",
   "metadata": {},
   "outputs": [
    {
     "data": {
      "image/png": "[encoded data removed]",
      "text/plain": [
       "<Figure size 432x288 with 1 Axes>"
      ]
     },
     "metadata": {
      "needs_background": "light"
     },
     "output_type": "display_data"
    }
   ],
   "source": [
    "plt.plot(x, y, label=\"True\")\n",
    "for i, ent in enumerate(env.entities):\n",
    "    y_pred = ent.predict(x.unsqueeze(1))\n",
    "    plt.plot(x, y_pred.squeeze(1), label=str(i))\n",
    "plt.legend()\n",
    "plt.show()"
   ]
  },
  {
   "cell_type": "code",
   "execution_count": 59,
   "id": "8eac4562",
   "metadata": {},
   "outputs": [
    {
     "data": {
      "image/png": "[encoded data removed]",
      "text/plain": [
       "<Figure size 432x288 with 1 Axes>"
      ]
     },
     "metadata": {
      "needs_background": "light"
     },
     "output_type": "display_data"
    }
   ],
   "source": [
    "i = 12\n",
    "m = env.entities[i]\n",
    "plt.plot(x, y, label=\"True\")\n",
    "y_pred = m.predict(x.unsqueeze(1))\n",
    "plt.plot(x, y_pred.squeeze(1), label=str(i))\n",
    "plt.legend()\n",
    "plt.show()"
   ]
  },
  {
   "cell_type": "code",
   "execution_count": null,
   "id": "43d0f406",
   "metadata": {},
   "outputs": [],
   "source": []
  }
 ],
 "metadata": {
  "kernelspec": {
   "display_name": "Python 3 (ipykernel)",
   "language": "python",
   "name": "python3"
  },
  "language_info": {
   "codemirror_mode": {
    "name": "ipython",
    "version": 3
   },
   "file_extension": ".py",
   "mimetype": "text/x-python",
   "name": "python",
   "nbconvert_exporter": "python",
   "pygments_lexer": "ipython3",
   "version": "3.10.0"
  }
 },
 "nbformat": 4,
 "nbformat_minor": 5
}
