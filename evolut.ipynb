{
 "cells": [
  {
   "cell_type": "code",
   "execution_count": 1,
   "id": "7e222d51",
   "metadata": {},
   "outputs": [],
   "source": [
    "from models import Entity, Environment\n",
    "import numpy as np\n",
    "import torch\n",
    "import torch.utils.data as Data\n",
    "import matplotlib.pyplot as plt"
   ]
  },
  {
   "cell_type": "code",
   "execution_count": 2,
   "id": "32d50534",
   "metadata": {},
   "outputs": [],
   "source": [
    "x_arr = torch.linspace(-1, 1, 500)\n",
    "y_arr = torch.exp(x_arr) + torch.normal(0, 0.02, size=(500,))\n",
    "dataset = Data.TensorDataset(x_arr.unsqueeze(1),y_arr.unsqueeze(1))\n",
    "train_loader = Data.DataLoader(\n",
    "\tdataset=dataset,\n",
    "    batch_size=5, # Divided into batches\n",
    "    shuffle=True  # Whether to disrupt the data, the default is False\n",
    ")"
   ]
  },
  {
   "cell_type": "code",
   "execution_count": 3,
   "id": "c1183927",
   "metadata": {},
   "outputs": [],
   "source": [
    "x_val = torch.linspace(1, 1.2, 50)\n",
    "y_val = torch.exp(x_val) + torch.normal(0, 0.02, size=(50,))\n",
    "dataset = Data.TensorDataset(x_val.unsqueeze(1), y_val.unsqueeze(1))\n",
    "val_loader = Data.DataLoader(\n",
    "\tdataset=dataset,\n",
    "    batch_size=5, # Divided into batches\n",
    "    shuffle=True  # Whether to disrupt the data, the default is False\n",
    ")"
   ]
  },
  {
   "cell_type": "code",
   "execution_count": 4,
   "id": "dfd7c7f5",
   "metadata": {},
   "outputs": [
    {
     "data": {
      "text/plain": [
       "[<matplotlib.lines.Line2D at 0x14b0bd6af50>]"
      ]
     },
     "execution_count": 4,
     "metadata": {},
     "output_type": "execute_result"
    },
    {
     "data": {
      "image/png": "[encoded data removed]",
      "text/plain": [
       "<Figure size 432x288 with 1 Axes>"
      ]
     },
     "metadata": {
      "needs_background": "light"
     },
     "output_type": "display_data"
    }
   ],
   "source": [
    "plt.plot(x_arr, y_arr, marker=\"o\", lw=0, markersize=2)\n",
    "plt.plot(x_val, y_val, marker=\"o\", lw=0, markersize=2)"
   ]
  },
  {
   "cell_type": "code",
   "execution_count": 5,
   "id": "7ff94ee4",
   "metadata": {},
   "outputs": [
    {
     "name": "stdout",
     "output_type": "stream",
     "text": [
      "cpu\n"
     ]
    }
   ],
   "source": [
    "env = Environment(10, train_loader, train_epochs=20, validation_loader=val_loader)"
   ]
  },
  {
   "cell_type": "code",
   "execution_count": 6,
   "id": "cd92cad7",
   "metadata": {},
   "outputs": [
    {
     "name": "stderr",
     "output_type": "stream",
     "text": [
      "C:\\Users\\mrsca\\AppData\\Local\\Programs\\Python\\Python310\\lib\\site-packages\\torch\\nn\\modules\\container.py:141: UserWarning: Implicit dimension choice for softmax has been deprecated. Change the call to include dim=X as an argument.\n",
      "  input = module(input)\n"
     ]
    }
   ],
   "source": [
    "env.train_epoch()"
   ]
  },
  {
   "cell_type": "code",
   "execution_count": 7,
   "id": "41a29f85",
   "metadata": {},
   "outputs": [
    {
     "data": {
      "text/plain": [
       "[0.40810119152069096,\n",
       " 2.103398017883301,\n",
       " 0.020550747811794282,\n",
       " 0.508079776763916,\n",
       " 0.40229256629943844,\n",
       " 0.7152749109268188,\n",
       " 0.4051454353332519,\n",
       " 0.43041142940521243,\n",
       " 0.6580546236038207,\n",
       " 0.278956880569458]"
      ]
     },
     "execution_count": 7,
     "metadata": {},
     "output_type": "execute_result"
    }
   ],
   "source": [
    "env.validate_entities()"
   ]
  },
  {
   "cell_type": "code",
   "execution_count": 8,
   "id": "67987ee7",
   "metadata": {},
   "outputs": [],
   "source": [
    "m = env.entities[9]"
   ]
  },
  {
   "cell_type": "code",
   "execution_count": 9,
   "id": "81a66d0b",
   "metadata": {},
   "outputs": [],
   "source": [
    "y = m.predict(x_arr.unsqueeze(1))"
   ]
  },
  {
   "cell_type": "code",
   "execution_count": 10,
   "id": "d632b314",
   "metadata": {},
   "outputs": [],
   "source": [
    "l = m.loss(y, y_arr.unsqueeze(1))"
   ]
  },
  {
   "cell_type": "code",
   "execution_count": 11,
   "id": "f9381ad1",
   "metadata": {},
   "outputs": [
    {
     "data": {
      "text/plain": [
       "0.1354999542236328"
      ]
     },
     "execution_count": 11,
     "metadata": {},
     "output_type": "execute_result"
    }
   ],
   "source": [
    "l.item()"
   ]
  },
  {
   "cell_type": "code",
   "execution_count": 12,
   "id": "28bc1389",
   "metadata": {},
   "outputs": [
    {
     "name": "stdout",
     "output_type": "stream",
     "text": [
      "{'layers': [{'type': 'Linear', 'in': 1, 'out': 34}, {'type': 'Linear', 'in': 34, 'out': 1}], 'criterion': 'L1Loss', 'optimizer': {'momentum': 0.12643755894378772, 'name': 'SGD', 'lr': 0.08357456396802238}}\n"
     ]
    }
   ],
   "source": [
    "print(m.gens)"
   ]
  },
  {
   "cell_type": "code",
   "execution_count": 13,
   "id": "9bc07cac",
   "metadata": {},
   "outputs": [
    {
     "data": {
      "text/plain": [
       "[<matplotlib.lines.Line2D at 0x1b99abf4ac0>]"
      ]
     },
     "execution_count": 13,
     "metadata": {},
     "output_type": "execute_result"
    },
    {
     "data": {
      "image/png": "[encoded data removed]",
      "text/plain": [
       "<Figure size 432x288 with 1 Axes>"
      ]
     },
     "metadata": {
      "needs_background": "light"
     },
     "output_type": "display_data"
    }
   ],
   "source": [
    "plt.plot(x_arr, y.squeeze(1))\n",
    "plt.plot(x_arr, y_arr)"
   ]
  },
  {
   "cell_type": "code",
   "execution_count": 8,
   "id": "c3f74a7d",
   "metadata": {},
   "outputs": [],
   "source": [
    "env.evo_step()"
   ]
  },
  {
   "cell_type": "code",
   "execution_count": 9,
   "id": "18cd6242",
   "metadata": {},
   "outputs": [
    {
     "data": {
      "text/plain": [
       "[0.3510309600830078,\n",
       " 0.42220210313796996,\n",
       " 0.02154085651040077,\n",
       " 0.22963936924934386,\n",
       " 0.41518909215927124,\n",
       " 0.6557426261901855,\n",
       " 0.4206149697303772,\n",
       " 0.38101759195327756,\n",
       " 0.9051909351348877,\n",
       " 0.47223535537719724]"
      ]
     },
     "execution_count": 9,
     "metadata": {},
     "output_type": "execute_result"
    }
   ],
   "source": [
    "env.train_epoch()\n",
    "env.validate_entities()"
   ]
  },
  {
   "cell_type": "code",
   "execution_count": 24,
   "id": "c5faa58c",
   "metadata": {},
   "outputs": [
    {
     "name": "stderr",
     "output_type": "stream",
     "text": [
      "C:\\Users\\mrsca\\AppData\\Local\\Programs\\Python\\Python310\\lib\\site-packages\\torch\\nn\\modules\\container.py:141: UserWarning: Implicit dimension choice for softmax has been deprecated. Change the call to include dim=X as an argument.\n",
      "  input = module(input)\n"
     ]
    },
    {
     "name": "stdout",
     "output_type": "stream",
     "text": [
      "[0.39865104913711547, 11.751930236816406, 0.02139860987663269, 0.24226879835128784, 0.40435405492782595, 0.7903167247772217, 0.46435814857482904, 0.4568610048294067, 0.9114351844787597, 0.5387848281860352]\n",
      "Evo step: 0\n",
      "[0.39397287368774414, 0.0068224182724952705, 0.11393856048583983, 0.2535048067569733, 0.3928132486343384, 0.5581278800964355, 0.408363721370697, 0.3745258641242981, 0.6914007234573364, 0.5649366235733032]\n",
      "Evo step: 1\n",
      "[0.43795433044433596, 0.22774463176727294, 0.04564554035663605, 0.6564402389526367, 0.37276050567626956, 0.6525152254104614, 0.43016540050506596, 0.4156553649902344, 0.6208587169647217, 0.3965466928482056]\n",
      "Evo step: 2\n",
      "[0.362365050315857, 3.8556066131591797, 0.10289869427680969, 0.18606284976005555, 0.3940583872795105, 0.6493680191040039, 0.46176101207733156, 0.40398069381713864, 0.5365563774108887, 0.6137826633453369]\n",
      "Evo step: 3\n",
      "[0.4063247585296631, 0.20066787719726564, 0.036555328518152234, 0.21509063720703123, 0.395365788936615, 0.6835181760787964, 0.45131332874298097, 0.43558862686157224, 0.7933367395401001, 0.4416455507278442]\n",
      "Evo step: 4\n",
      "[0.48821124076843264, 0.09522870302200317, 0.07819272458553314, 0.39609780073165896, 0.40841975688934323, 0.5288877296447754, 0.3795793223381042, 0.31465165853500365, 0.607299313545227, 0.4365494060516357]\n",
      "Evo step: 5\n",
      "[0.3781527376174927, 8.05583282470703, 0.019234338998794558, 0.46005763053894044, 0.39005126476287844, 0.6658749675750733, 0.4231818914413452, 0.48332078933715816, 0.6169846773147583, 0.1226719582080841]\n",
      "Evo step: 6\n",
      "[0.3347779631614685, 0.2690913701057434, 0.020959340631961823, 0.19961378931999207, 0.4119679760932923, 0.855808916091919, 0.37471510648727413, 0.45280550479888915, 0.7106966543197631, 0.5075130176544189]\n",
      "Evo step: 7\n",
      "[0.43966914176940913, 0.14456651210784913, 0.0843917942047119, 0.47261487483978276, 0.3991860270500183, 0.5995145130157471, 0.465867133140564, 0.3999634099006653, 0.5343670225143432, 0.47036898612976075]\n",
      "Evo step: 8\n",
      "[0.34151946783065795, 0.44976813316345216, 0.11030762374401093, 0.27183304548263554, 0.39563992261886594, 0.29743324756622314, 0.38433788776397704, 0.5212162256240844, 0.7507470321655274, 0.5690483474731446]\n",
      "Evo step: 9\n"
     ]
    }
   ],
   "source": [
    "for i in range(10):\n",
    "    env.train_epoch()\n",
    "    print(env.validate_entities())\n",
    "    env.evo_step()\n",
    "    print(f\"Evo step: {i}\")"
   ]
  },
  {
   "cell_type": "code",
   "execution_count": 23,
   "id": "e734e630",
   "metadata": {},
   "outputs": [
    {
     "name": "stderr",
     "output_type": "stream",
     "text": [
      "C:\\Users\\mrsca\\AppData\\Local\\Programs\\Python\\Python310\\lib\\site-packages\\torch\\nn\\modules\\container.py:141: UserWarning: Implicit dimension choice for softmax has been deprecated. Change the call to include dim=X as an argument.\n",
      "  input = module(input)\n"
     ]
    },
    {
     "name": "stdout",
     "output_type": "stream",
     "text": [
      "{'layers': [{'type': 'Linear', 'in': 1, 'out': 10}, {'type': 'Softmax', 'in': 10, 'out': 10}, {'type': 'ReLU', 'in': 10, 'out': 10}, {'type': 'Linear', 'in': 10, 'out': 29}, {'type': 'Linear', 'in': 29, 'out': 41}, {'type': 'Tanh', 'in': 41, 'out': 39}, {'type': 'Tanh', 'in': 39, 'out': 47}, {'type': 'Sigmoid', 'in': 47, 'out': 34}, {'type': 'Linear', 'in': 34, 'out': 1}], 'criterion': 'L1Loss', 'optimizer': {'name': 'Adam', 'lr': 0.29219234621805107}}\n"
     ]
    },
    {
     "data": {
      "text/plain": [
       "[<matplotlib.lines.Line2D at 0x14b0f57c880>]"
      ]
     },
     "execution_count": 23,
     "metadata": {},
     "output_type": "execute_result"
    },
    {
     "data": {
      "image/png": "[encoded data removed]",
      "text/plain": [
       "<Figure size 432x288 with 1 Axes>"
      ]
     },
     "metadata": {
      "needs_background": "light"
     },
     "output_type": "display_data"
    }
   ],
   "source": [
    "m = env.entities[9]\n",
    "m.train(train_loader, 50)\n",
    "print(m.gens)\n",
    "y = m.predict(x_arr.unsqueeze(1))\n",
    "plt.plot(x_arr, y.squeeze(1))\n",
    "plt.plot(x_arr, y_arr)"
   ]
  },
  {
   "cell_type": "code",
   "execution_count": 27,
   "id": "2fbe626c",
   "metadata": {},
   "outputs": [
    {
     "name": "stderr",
     "output_type": "stream",
     "text": [
      "C:\\Users\\mrsca\\AppData\\Local\\Programs\\Python\\Python310\\lib\\site-packages\\torch\\nn\\modules\\container.py:141: UserWarning: Implicit dimension choice for softmax has been deprecated. Change the call to include dim=X as an argument.\n",
      "  input = module(input)\n",
      "C:\\Users\\mrsca\\AppData\\Local\\Programs\\Python\\Python310\\lib\\site-packages\\torch\\nn\\modules\\container.py:141: UserWarning: Implicit dimension choice for softmax has been deprecated. Change the call to include dim=X as an argument.\n",
      "  input = module(input)\n",
      "C:\\Users\\mrsca\\AppData\\Local\\Programs\\Python\\Python310\\lib\\site-packages\\torch\\nn\\modules\\container.py:141: UserWarning: Implicit dimension choice for softmax has been deprecated. Change the call to include dim=X as an argument.\n",
      "  input = module(input)\n",
      "C:\\Users\\mrsca\\AppData\\Local\\Programs\\Python\\Python310\\lib\\site-packages\\torch\\nn\\modules\\container.py:141: UserWarning: Implicit dimension choice for softmax has been deprecated. Change the call to include dim=X as an argument.\n",
      "  input = module(input)\n",
      "C:\\Users\\mrsca\\AppData\\Local\\Programs\\Python\\Python310\\lib\\site-packages\\torch\\nn\\modules\\container.py:141: UserWarning: Implicit dimension choice for softmax has been deprecated. Change the call to include dim=X as an argument.\n",
      "  input = module(input)\n",
      "C:\\Users\\mrsca\\AppData\\Local\\Programs\\Python\\Python310\\lib\\site-packages\\torch\\nn\\modules\\container.py:141: UserWarning: Implicit dimension choice for softmax has been deprecated. Change the call to include dim=X as an argument.\n",
      "  input = module(input)\n",
      "C:\\Users\\mrsca\\AppData\\Local\\Programs\\Python\\Python310\\lib\\site-packages\\torch\\nn\\modules\\container.py:141: UserWarning: Implicit dimension choice for softmax has been deprecated. Change the call to include dim=X as an argument.\n",
      "  input = module(input)\n",
      "C:\\Users\\mrsca\\AppData\\Local\\Programs\\Python\\Python310\\lib\\site-packages\\torch\\nn\\modules\\container.py:141: UserWarning: Implicit dimension choice for softmax has been deprecated. Change the call to include dim=X as an argument.\n",
      "  input = module(input)\n",
      "C:\\Users\\mrsca\\AppData\\Local\\Programs\\Python\\Python310\\lib\\site-packages\\torch\\nn\\modules\\container.py:141: UserWarning: Implicit dimension choice for softmax has been deprecated. Change the call to include dim=X as an argument.\n",
      "  input = module(input)\n"
     ]
    },
    {
     "data": {
      "image/png": "[encoded data removed]",
      "text/plain": [
       "<Figure size 432x288 with 1 Axes>"
      ]
     },
     "metadata": {
      "needs_background": "light"
     },
     "output_type": "display_data"
    }
   ],
   "source": [
    "plt.plot(x_val, y_val, label=\"True\")\n",
    "for i, ent in enumerate(env.entities):\n",
    "    y = ent.predict(x_val.unsqueeze(1))\n",
    "    plt.plot(x_val, y.squeeze(1), label=str(i))\n",
    "plt.legend()\n",
    "plt.show()"
   ]
  },
  {
   "cell_type": "code",
   "execution_count": null,
   "id": "b76e4012",
   "metadata": {},
   "outputs": [],
   "source": []
  }
 ],
 "metadata": {
  "kernelspec": {
   "display_name": "Python 3 (ipykernel)",
   "language": "python",
   "name": "python3"
  },
  "language_info": {
   "codemirror_mode": {
    "name": "ipython",
    "version": 3
   },
   "file_extension": ".py",
   "mimetype": "text/x-python",
   "name": "python",
   "nbconvert_exporter": "python",
   "pygments_lexer": "ipython3",
   "version": "3.10.0"
  }
 },
 "nbformat": 4,
 "nbformat_minor": 5
}
