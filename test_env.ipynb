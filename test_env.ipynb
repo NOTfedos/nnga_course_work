{
 "cells": [
  {
   "cell_type": "code",
   "execution_count": 1,
   "id": "34a5f878",
   "metadata": {},
   "outputs": [],
   "source": [
    "from models import Entity, Environment\n",
    "import numpy as np\n",
    "import torch\n",
    "import torch.utils.data as Data\n",
    "import matplotlib.pyplot as plt"
   ]
  },
  {
   "cell_type": "code",
   "execution_count": 2,
   "id": "fb2389bb",
   "metadata": {},
   "outputs": [],
   "source": [
    "x_arr = torch.linspace(-1, 1, 500)\n",
    "y_arr = torch.exp(x_arr) + torch.normal(0, 0.02, size=(500,))\n",
    "dataset = Data.TensorDataset(x_arr.unsqueeze(1),y_arr.unsqueeze(1))\n",
    "loader = Data.DataLoader(\n",
    "\tdataset=dataset,\n",
    "    batch_size=5, # Divided into batches\n",
    "    shuffle=True  # Whether to disrupt the data, the default is False\n",
    ")"
   ]
  },
  {
   "cell_type": "code",
   "execution_count": 3,
   "id": "56c13e18",
   "metadata": {},
   "outputs": [
    {
     "data": {
      "text/plain": [
       "[<matplotlib.lines.Line2D at 0x25e505c2c50>]"
      ]
     },
     "execution_count": 3,
     "metadata": {},
     "output_type": "execute_result"
    },
    {
     "data": {
      "image/png": "[encoded data removed]",
      "text/plain": [
       "<Figure size 432x288 with 1 Axes>"
      ]
     },
     "metadata": {
      "needs_background": "light"
     },
     "output_type": "display_data"
    }
   ],
   "source": [
    "plt.plot(x_arr, y_arr, marker=\"o\", lw=0, markersize=2)"
   ]
  },
  {
   "cell_type": "code",
   "execution_count": 4,
   "id": "0d383f99",
   "metadata": {},
   "outputs": [
    {
     "name": "stdout",
     "output_type": "stream",
     "text": [
      "{'layers': [{'type': 'Linear', 'in': 1, 'out': 20}, {'type': 'Tanh', 'in': 20, 'out': 20}, {'type': 'ReLU', 'in': 20, 'out': 20}, {'type': 'Sigmoid', 'in': 20, 'out': 20}, {'type': 'Tanh', 'in': 20, 'out': 20}, {'type': 'Linear', 'in': 20, 'out': 1}], 'criterion': 'L1Loss', 'optimizer': {'name': 'Adam', 'lr': 0.5375015105202762}}\n",
      "{'layers': [{'type': 'Linear', 'in': 1, 'out': 12}, {'type': 'ReLU', 'in': 12, 'out': 12}, {'type': 'Sigmoid', 'in': 12, 'out': 12}, {'type': 'Linear', 'in': 12, 'out': 37}, {'type': 'Softmax', 'in': 37, 'out': 37}, {'type': 'ReLU', 'in': 37, 'out': 37}, {'type': 'Sigmoid', 'in': 37, 'out': 37}, {'type': 'Linear', 'in': 37, 'out': 1}], 'criterion': 'L1Loss', 'optimizer': {'momentum': 0.13802175750388343, 'name': 'SGD', 'lr': 0.05813448942682727}}\n"
     ]
    }
   ],
   "source": [
    "env = Environment(2, loader)"
   ]
  },
  {
   "cell_type": "code",
   "execution_count": 5,
   "id": "8a7e198f",
   "metadata": {},
   "outputs": [
    {
     "name": "stdout",
     "output_type": "stream",
     "text": [
      "[0.6006187331676484, 0.4935568019747734, 0.4943005672097206]\n"
     ]
    },
    {
     "name": "stderr",
     "output_type": "stream",
     "text": [
      "C:\\Users\\mrsca\\AppData\\Local\\Programs\\Python\\Python310\\lib\\site-packages\\torch\\nn\\modules\\container.py:141: UserWarning: Implicit dimension choice for softmax has been deprecated. Change the call to include dim=X as an argument.\n",
      "  input = module(input)\n"
     ]
    },
    {
     "name": "stdout",
     "output_type": "stream",
     "text": [
      "[0.584717521071434, 0.6080293430387974, 0.5714786231517792]\n"
     ]
    }
   ],
   "source": [
    "env.train_epoch()"
   ]
  },
  {
   "cell_type": "code",
   "execution_count": 6,
   "id": "a4d58748",
   "metadata": {},
   "outputs": [
    {
     "ename": "SyntaxError",
     "evalue": "invalid syntax. Perhaps you forgot a comma? (Temp/ipykernel_3648/528719919.py, line 1)",
     "output_type": "error",
     "traceback": [
      "\u001b[1;36m  File \u001b[1;32m\"C:\\Users\\mrsca\\AppData\\Local\\Temp/ipykernel_3648/528719919.py\"\u001b[1;36m, line \u001b[1;32m1\u001b[0m\n\u001b[1;33m    y = env.entities[0]predict(x_arr.unsqueeze(1))\u001b[0m\n\u001b[1;37m        ^\u001b[0m\n\u001b[1;31mSyntaxError\u001b[0m\u001b[1;31m:\u001b[0m invalid syntax. Perhaps you forgot a comma?\n"
     ]
    }
   ],
   "source": [
    "y = env.entities[0].predict(x_arr.unsqueeze(1))"
   ]
  },
  {
   "cell_type": "code",
   "execution_count": null,
   "id": "6fe7b7e1",
   "metadata": {},
   "outputs": [],
   "source": []
  }
 ],
 "metadata": {
  "kernelspec": {
   "display_name": "Python 3 (ipykernel)",
   "language": "python",
   "name": "python3"
  },
  "language_info": {
   "codemirror_mode": {
    "name": "ipython",
    "version": 3
   },
   "file_extension": ".py",
   "mimetype": "text/x-python",
   "name": "python",
   "nbconvert_exporter": "python",
   "pygments_lexer": "ipython3",
   "version": "3.10.0"
  }
 },
 "nbformat": 4,
 "nbformat_minor": 5
}
